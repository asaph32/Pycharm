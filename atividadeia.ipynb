{
 "cells": [
  {
   "cell_type": "code",
   "execution_count": 8,
   "metadata": {
    "collapsed": true,
    "pycharm": {
     "name": "#%%\n"
    }
   },
   "outputs": [
    {
     "name": "stdout",
     "output_type": "stream",
     "text": [
      "Requirement already satisfied: spektral in c:\\users\\ricar\\desktop\\nemprojectpython\\venv\\lib\\site-packages (1.1.0)\n",
      "Requirement already satisfied: joblib in c:\\users\\ricar\\desktop\\nemprojectpython\\venv\\lib\\site-packages (from spektral) (1.1.0)\n",
      "Requirement already satisfied: pandas in c:\\users\\ricar\\desktop\\nemprojectpython\\venv\\lib\\site-packages (from spektral) (1.4.2)\n",
      "Requirement already satisfied: networkx in c:\\users\\ricar\\desktop\\nemprojectpython\\venv\\lib\\site-packages (from spektral) (2.8.4)\n",
      "Requirement already satisfied: tqdm in c:\\users\\ricar\\desktop\\nemprojectpython\\venv\\lib\\site-packages (from spektral) (4.64.0)\n",
      "Requirement already satisfied: lxml in c:\\users\\ricar\\desktop\\nemprojectpython\\venv\\lib\\site-packages (from spektral) (4.9.0)\n",
      "Requirement already satisfied: scikit-learn in c:\\users\\ricar\\desktop\\nemprojectpython\\venv\\lib\\site-packages (from spektral) (1.1.1)\n",
      "Requirement already satisfied: numpy in c:\\users\\ricar\\desktop\\nemprojectpython\\venv\\lib\\site-packages (from spektral) (1.22.4)\n",
      "Requirement already satisfied: requests in c:\\users\\ricar\\desktop\\nemprojectpython\\venv\\lib\\site-packages (from spektral) (2.28.0)\n",
      "Requirement already satisfied: scipy in c:\\users\\ricar\\desktop\\nemprojectpython\\venv\\lib\\site-packages (from spektral) (1.8.1)\n",
      "Requirement already satisfied: tensorflow>=2.2.0 in c:\\users\\ricar\\desktop\\nemprojectpython\\venv\\lib\\site-packages (from spektral) (2.9.1)\n",
      "Requirement already satisfied: flatbuffers<2,>=1.12 in c:\\users\\ricar\\desktop\\nemprojectpython\\venv\\lib\\site-packages (from tensorflow>=2.2.0->spektral) (1.12)\n",
      "Requirement already satisfied: packaging in c:\\users\\ricar\\desktop\\nemprojectpython\\venv\\lib\\site-packages (from tensorflow>=2.2.0->spektral) (21.3)\n",
      "Requirement already satisfied: tensorflow-io-gcs-filesystem>=0.23.1 in c:\\users\\ricar\\desktop\\nemprojectpython\\venv\\lib\\site-packages (from tensorflow>=2.2.0->spektral) (0.26.0)\n",
      "Requirement already satisfied: termcolor>=1.1.0 in c:\\users\\ricar\\desktop\\nemprojectpython\\venv\\lib\\site-packages (from tensorflow>=2.2.0->spektral) (1.1.0)\n",
      "Requirement already satisfied: tensorflow-estimator<2.10.0,>=2.9.0rc0 in c:\\users\\ricar\\desktop\\nemprojectpython\\venv\\lib\\site-packages (from tensorflow>=2.2.0->spektral) (2.9.0)\n",
      "Requirement already satisfied: gast<=0.4.0,>=0.2.1 in c:\\users\\ricar\\desktop\\nemprojectpython\\venv\\lib\\site-packages (from tensorflow>=2.2.0->spektral) (0.4.0)\n",
      "Requirement already satisfied: h5py>=2.9.0 in c:\\users\\ricar\\desktop\\nemprojectpython\\venv\\lib\\site-packages (from tensorflow>=2.2.0->spektral) (3.7.0)\n",
      "Requirement already satisfied: google-pasta>=0.1.1 in c:\\users\\ricar\\desktop\\nemprojectpython\\venv\\lib\\site-packages (from tensorflow>=2.2.0->spektral) (0.2.0)\n",
      "Requirement already satisfied: setuptools in c:\\users\\ricar\\desktop\\nemprojectpython\\venv\\lib\\site-packages (from tensorflow>=2.2.0->spektral) (60.2.0)\n",
      "Requirement already satisfied: grpcio<2.0,>=1.24.3 in c:\\users\\ricar\\desktop\\nemprojectpython\\venv\\lib\\site-packages (from tensorflow>=2.2.0->spektral) (1.46.3)\n",
      "Requirement already satisfied: wrapt>=1.11.0 in c:\\users\\ricar\\desktop\\nemprojectpython\\venv\\lib\\site-packages (from tensorflow>=2.2.0->spektral) (1.14.1)\n",
      "Requirement already satisfied: opt-einsum>=2.3.2 in c:\\users\\ricar\\desktop\\nemprojectpython\\venv\\lib\\site-packages (from tensorflow>=2.2.0->spektral) (3.3.0)\n",
      "Requirement already satisfied: tensorboard<2.10,>=2.9 in c:\\users\\ricar\\desktop\\nemprojectpython\\venv\\lib\\site-packages (from tensorflow>=2.2.0->spektral) (2.9.1)\n",
      "Requirement already satisfied: keras-preprocessing>=1.1.1 in c:\\users\\ricar\\desktop\\nemprojectpython\\venv\\lib\\site-packages (from tensorflow>=2.2.0->spektral) (1.1.2)\n",
      "Requirement already satisfied: six>=1.12.0 in c:\\users\\ricar\\desktop\\nemprojectpython\\venv\\lib\\site-packages (from tensorflow>=2.2.0->spektral) (1.16.0)\n",
      "Requirement already satisfied: keras<2.10.0,>=2.9.0rc0 in c:\\users\\ricar\\desktop\\nemprojectpython\\venv\\lib\\site-packages (from tensorflow>=2.2.0->spektral) (2.9.0)\n",
      "Requirement already satisfied: astunparse>=1.6.0 in c:\\users\\ricar\\desktop\\nemprojectpython\\venv\\lib\\site-packages (from tensorflow>=2.2.0->spektral) (1.6.3)\n",
      "Requirement already satisfied: typing-extensions>=3.6.6 in c:\\users\\ricar\\desktop\\nemprojectpython\\venv\\lib\\site-packages (from tensorflow>=2.2.0->spektral) (4.2.0)\n",
      "Requirement already satisfied: libclang>=13.0.0 in c:\\users\\ricar\\desktop\\nemprojectpython\\venv\\lib\\site-packages (from tensorflow>=2.2.0->spektral) (14.0.1)\n",
      "Requirement already satisfied: absl-py>=1.0.0 in c:\\users\\ricar\\desktop\\nemprojectpython\\venv\\lib\\site-packages (from tensorflow>=2.2.0->spektral) (1.1.0)\n",
      "Requirement already satisfied: protobuf<3.20,>=3.9.2 in c:\\users\\ricar\\desktop\\nemprojectpython\\venv\\lib\\site-packages (from tensorflow>=2.2.0->spektral) (3.19.4)\n",
      "Requirement already satisfied: python-dateutil>=2.8.1 in c:\\users\\ricar\\desktop\\nemprojectpython\\venv\\lib\\site-packages (from pandas->spektral) (2.8.2)\n",
      "Requirement already satisfied: pytz>=2020.1 in c:\\users\\ricar\\desktop\\nemprojectpython\\venv\\lib\\site-packages (from pandas->spektral) (2022.1)\n",
      "Requirement already satisfied: urllib3<1.27,>=1.21.1 in c:\\users\\ricar\\desktop\\nemprojectpython\\venv\\lib\\site-packages (from requests->spektral) (1.26.9)\n",
      "Requirement already satisfied: charset-normalizer~=2.0.0 in c:\\users\\ricar\\desktop\\nemprojectpython\\venv\\lib\\site-packages (from requests->spektral) (2.0.12)\n",
      "Requirement already satisfied: certifi>=2017.4.17 in c:\\users\\ricar\\desktop\\nemprojectpython\\venv\\lib\\site-packages (from requests->spektral) (2022.6.15)\n",
      "Requirement already satisfied: idna<4,>=2.5 in c:\\users\\ricar\\desktop\\nemprojectpython\\venv\\lib\\site-packages (from requests->spektral) (3.3)\n",
      "Requirement already satisfied: threadpoolctl>=2.0.0 in c:\\users\\ricar\\desktop\\nemprojectpython\\venv\\lib\\site-packages (from scikit-learn->spektral) (3.1.0)\n",
      "Requirement already satisfied: colorama in c:\\users\\ricar\\desktop\\nemprojectpython\\venv\\lib\\site-packages (from tqdm->spektral) (0.4.5)\n",
      "Requirement already satisfied: wheel<1.0,>=0.23.0 in c:\\users\\ricar\\desktop\\nemprojectpython\\venv\\lib\\site-packages (from astunparse>=1.6.0->tensorflow>=2.2.0->spektral) (0.37.1)\n",
      "Requirement already satisfied: google-auth-oauthlib<0.5,>=0.4.1 in c:\\users\\ricar\\desktop\\nemprojectpython\\venv\\lib\\site-packages (from tensorboard<2.10,>=2.9->tensorflow>=2.2.0->spektral) (0.4.6)\n",
      "Requirement already satisfied: tensorboard-data-server<0.7.0,>=0.6.0 in c:\\users\\ricar\\desktop\\nemprojectpython\\venv\\lib\\site-packages (from tensorboard<2.10,>=2.9->tensorflow>=2.2.0->spektral) (0.6.1)\n",
      "Requirement already satisfied: tensorboard-plugin-wit>=1.6.0 in c:\\users\\ricar\\desktop\\nemprojectpython\\venv\\lib\\site-packages (from tensorboard<2.10,>=2.9->tensorflow>=2.2.0->spektral) (1.8.1)\n",
      "Requirement already satisfied: markdown>=2.6.8 in c:\\users\\ricar\\desktop\\nemprojectpython\\venv\\lib\\site-packages (from tensorboard<2.10,>=2.9->tensorflow>=2.2.0->spektral) (3.3.7)\n",
      "Requirement already satisfied: google-auth<3,>=1.6.3 in c:\\users\\ricar\\desktop\\nemprojectpython\\venv\\lib\\site-packages (from tensorboard<2.10,>=2.9->tensorflow>=2.2.0->spektral) (2.8.0)\n",
      "Requirement already satisfied: werkzeug>=1.0.1 in c:\\users\\ricar\\desktop\\nemprojectpython\\venv\\lib\\site-packages (from tensorboard<2.10,>=2.9->tensorflow>=2.2.0->spektral) (2.1.2)\n",
      "Requirement already satisfied: pyparsing!=3.0.5,>=2.0.2 in c:\\users\\ricar\\desktop\\nemprojectpython\\venv\\lib\\site-packages (from packaging->tensorflow>=2.2.0->spektral) (3.0.9)\n",
      "Requirement already satisfied: cachetools<6.0,>=2.0.0 in c:\\users\\ricar\\desktop\\nemprojectpython\\venv\\lib\\site-packages (from google-auth<3,>=1.6.3->tensorboard<2.10,>=2.9->tensorflow>=2.2.0->spektral) (5.2.0)\n",
      "Requirement already satisfied: rsa<5,>=3.1.4 in c:\\users\\ricar\\desktop\\nemprojectpython\\venv\\lib\\site-packages (from google-auth<3,>=1.6.3->tensorboard<2.10,>=2.9->tensorflow>=2.2.0->spektral) (4.8)\n",
      "Requirement already satisfied: pyasn1-modules>=0.2.1 in c:\\users\\ricar\\desktop\\nemprojectpython\\venv\\lib\\site-packages (from google-auth<3,>=1.6.3->tensorboard<2.10,>=2.9->tensorflow>=2.2.0->spektral) (0.2.8)\n",
      "Requirement already satisfied: requests-oauthlib>=0.7.0 in c:\\users\\ricar\\desktop\\nemprojectpython\\venv\\lib\\site-packages (from google-auth-oauthlib<0.5,>=0.4.1->tensorboard<2.10,>=2.9->tensorflow>=2.2.0->spektral) (1.3.1)\n",
      "Requirement already satisfied: importlib-metadata>=4.4 in c:\\users\\ricar\\desktop\\nemprojectpython\\venv\\lib\\site-packages (from markdown>=2.6.8->tensorboard<2.10,>=2.9->tensorflow>=2.2.0->spektral) (4.11.4)\n",
      "Requirement already satisfied: zipp>=0.5 in c:\\users\\ricar\\desktop\\nemprojectpython\\venv\\lib\\site-packages (from importlib-metadata>=4.4->markdown>=2.6.8->tensorboard<2.10,>=2.9->tensorflow>=2.2.0->spektral) (3.8.0)\n",
      "Requirement already satisfied: pyasn1<0.5.0,>=0.4.6 in c:\\users\\ricar\\desktop\\nemprojectpython\\venv\\lib\\site-packages (from pyasn1-modules>=0.2.1->google-auth<3,>=1.6.3->tensorboard<2.10,>=2.9->tensorflow>=2.2.0->spektral) (0.4.8)\n",
      "Requirement already satisfied: oauthlib>=3.0.0 in c:\\users\\ricar\\desktop\\nemprojectpython\\venv\\lib\\site-packages (from requests-oauthlib>=0.7.0->google-auth-oauthlib<0.5,>=0.4.1->tensorboard<2.10,>=2.9->tensorflow>=2.2.0->spektral) (3.2.0)\n"
     ]
    },
    {
     "name": "stderr",
     "output_type": "stream",
     "text": [
      "WARNING: You are using pip version 21.3.1; however, version 22.1.2 is available.\n",
      "You should consider upgrading via the 'C:\\Users\\ricar\\Desktop\\nemProjectPython\\venv\\Scripts\\python.exe -m pip install --upgrade pip' command.\n"
     ]
    }
   ],
   "source": [
    "!pip install spektral"
   ]
  },
  {
   "cell_type": "code",
   "execution_count": 1,
   "outputs": [],
   "source": [
    "from spektral.datasets.citation import Citation\n",
    "from spektral.transforms import LayerPreprocess\n",
    "from spektral.layers import GCNConv"
   ],
   "metadata": {
    "collapsed": false,
    "pycharm": {
     "name": "#%%\n"
    }
   }
  },
  {
   "cell_type": "code",
   "execution_count": 2,
   "outputs": [
    {
     "name": "stdout",
     "output_type": "stream",
     "text": [
      "Downloading cora dataset.\n",
      "Pre-processing node features\n"
     ]
    },
    {
     "name": "stderr",
     "output_type": "stream",
     "text": [
      "C:\\Users\\ricar\\Desktop\\nemProjectPython\\venv\\lib\\site-packages\\spektral\\datasets\\citation.py:108: FutureWarning: adjacency_matrix will return a scipy.sparse array instead of a matrix in Networkx 3.0.\n",
      "  a = nx.adjacency_matrix(nx.from_dict_of_lists(graph))  # CSR\n",
      "C:\\Users\\ricar\\Desktop\\nemProjectPython\\venv\\lib\\site-packages\\scipy\\sparse\\_index.py:146: SparseEfficiencyWarning: Changing the sparsity structure of a csr_matrix is expensive. lil_matrix is more efficient.\n",
      "  self._set_arrayXarray(i, j, x)\n"
     ]
    }
   ],
   "source": [
    "dataset = Citation(\"cora\", normalize_x=True, transforms=\n",
    "                   [LayerPreprocess(GCNConv)]);"
   ],
   "metadata": {
    "collapsed": false,
    "pycharm": {
     "name": "#%%\n"
    }
   }
  },
  {
   "cell_type": "code",
   "execution_count": 3,
   "outputs": [
    {
     "data": {
      "text/plain": "Graph(n_nodes=2708, n_node_features=1433, n_edge_features=None, n_labels=7)"
     },
     "execution_count": 3,
     "metadata": {},
     "output_type": "execute_result"
    }
   ],
   "source": [
    "dataset.graphs[0]"
   ],
   "metadata": {
    "collapsed": false,
    "pycharm": {
     "name": "#%%\n"
    }
   }
  },
  {
   "cell_type": "code",
   "execution_count": 4,
   "outputs": [
    {
     "name": "stdout",
     "output_type": "stream",
     "text": [
      "Tamanho do treino:  140\n",
      "Tamanho da validação:  500\n",
      "Tamanho do teste:  1000\n"
     ]
    }
   ],
   "source": [
    "import numpy as np\n",
    "def mascarar(mask):\n",
    "  return mask.astype(np.float32)/np.count_nonzero(mask)\n",
    "\n",
    "pesos_treino, pesos_val, pesos_test = (\n",
    "    mascarar(mask) for\n",
    "    mask in (dataset.mask_tr, dataset.mask_va, dataset.mask_te)\n",
    ")\n",
    "print(\"Tamanho do treino: \",\n",
    "      len([x for x in dataset.mask_tr if x]))\n",
    "print(\"Tamanho da validação: \",\n",
    "      len([x for x in dataset.mask_va if x]))\n",
    "print(\"Tamanho do teste: \", len([x for x in dataset.mask_te if x]))"
   ],
   "metadata": {
    "collapsed": false,
    "pycharm": {
     "name": "#%%\n"
    }
   }
  },
  {
   "cell_type": "code",
   "execution_count": 9,
   "outputs": [],
   "source": [
    "from spektral.models.gcn import GCN\n",
    "from tensorflow.keras.optimizers import Adam\n",
    "from tensorflow.keras.losses import CategoricalCrossentropy\n",
    "from spektral.data.loaders import SingleLoader\n",
    "\n",
    "model = GCN(n_labels=dataset.n_labels)\n",
    "\n",
    "carregador_treino = SingleLoader(dataset, sample_weights=pesos_treino)\n",
    "carregador_val = SingleLoader(dataset, sample_weights=pesos_val)"
   ],
   "metadata": {
    "collapsed": false,
    "pycharm": {
     "name": "#%%\n"
    }
   }
  },
  {
   "cell_type": "code",
   "execution_count": null,
   "outputs": [],
   "source": [
    "epocas = 20\n",
    "espera = 10\n",
    "from tensorflow.keras.callbacks import EarlyStopping\n",
    "\n",
    "model.compile(optimizer=Adam(1e-2),\n",
    "              loss=CategoricalCrossentropy(reduction=\"sum\"),\n",
    "              weighted_metrics=[\"acc\"])\n",
    "model.fit(\n",
    "    carregador_treino.load(),\n",
    "    steps_per_epoch=carregador_treino.steps_per_epoch,\n",
    "    validation_data = carregador_val.load(),\n",
    "    validation_steps=carregador_val.steps_per_epoch,\n",
    "    epochs=epocas,\n",
    "    callbacks=[EarlyStopping(patience=espera, restore_best_weights=True)]\n",
    ")"
   ],
   "metadata": {
    "collapsed": false,
    "pycharm": {
     "name": "#%%\n"
    }
   }
  },
  {
   "cell_type": "code",
   "execution_count": null,
   "outputs": [],
   "source": [
    "carregador_teste = SingleLoader(dataset, sample_weights=pesos_test)\n",
    "\n",
    "result = model.evaluate(carregador_teste.load(),\n",
    "                        steps=carregador_teste.steps_per_epoch)\n",
    "\n",
    "print(result)"
   ],
   "metadata": {
    "collapsed": false,
    "pycharm": {
     "name": "#%%\n"
    }
   }
  }
 ],
 "metadata": {
  "kernelspec": {
   "display_name": "Python 3",
   "language": "python",
   "name": "python3"
  },
  "language_info": {
   "codemirror_mode": {
    "name": "ipython",
    "version": 2
   },
   "file_extension": ".py",
   "mimetype": "text/x-python",
   "name": "python",
   "nbconvert_exporter": "python",
   "pygments_lexer": "ipython2",
   "version": "2.7.6"
  }
 },
 "nbformat": 4,
 "nbformat_minor": 0
}